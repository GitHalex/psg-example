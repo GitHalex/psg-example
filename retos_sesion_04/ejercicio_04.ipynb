{
 "cells": [
  {
   "cell_type": "markdown",
   "metadata": {},
   "source": [
    "# Piedra papel y tijera\n",
    "\n",
    "Este juego se trata de jugar entre dos donde cada uno muestra la piedra, papel o tijera"
   ]
  },
  {
   "cell_type": "markdown",
   "metadata": {},
   "source": [
    "## Reglas\n",
    "\n",
    "- Si es piedra mata a tijera\n",
    "- Si es tijera mata a papel\n",
    "- Si es papel mata a piedra"
   ]
  },
  {
   "cell_type": "code",
   "execution_count": 1,
   "metadata": {},
   "outputs": [
    {
     "name": "stdout",
     "output_type": "stream",
     "text": [
      "###########################\n",
      "#   ganador: Jugandor 2   #\n",
      "###########################\n"
     ]
    }
   ],
   "source": [
    "papel = \"📄\"\n",
    "tijera = \"✂️\"\n",
    "piedra = \"🥔\"\n",
    "\n",
    "jugador1 = papel\n",
    "jugador2 = tijera\n",
    "\n",
    "if jugador2 == tijera and jugador1 == papel:\n",
    "  print(\"###########################\")\n",
    "  print(\"#   ganador: Jugandor 2   #\")\n",
    "  print(\"###########################\")\n",
    "\n",
    "if jugador2 == piedra and jugador1 == tijera:\n",
    "  print(\"###########################\")\n",
    "  print(\"#   ganador: Jugandor 2   #\")\n",
    "  print(\"###########################\")\n",
    "\n",
    "if jugador2 == papel and jugador1 == piedra:\n",
    "  print(\"###########################\")\n",
    "  print(\"#   ganador: Jugandor 2   #\")\n",
    "  print(\"###########################\")\n",
    "\n",
    "if jugador1 == tijera and jugador2 == papel:\n",
    "  print(\"###########################\")\n",
    "  print(\"#   ganador: Jugandor 1   #\")\n",
    "  print(\"###########################\")\n",
    "\n",
    "if jugador1 == piedra and jugador2 == tijera:\n",
    "  print(\"###########################\")\n",
    "  print(\"#   ganador: Jugandor 1   #\")\n",
    "  print(\"###########################\")\n",
    "\n",
    "if jugador1 == papel and jugador2 == piedra:\n",
    "  print(\"###########################\")\n",
    "  print(\"#   ganador: Jugandor 1   #\")\n",
    "  print(\"###########################\")\n",
    "\n",
    "\n",
    "\n"
   ]
  }
 ],
 "metadata": {
  "kernelspec": {
   "display_name": "Python 3",
   "language": "python",
   "name": "python3"
  },
  "language_info": {
   "codemirror_mode": {
    "name": "ipython",
    "version": 3
   },
   "file_extension": ".py",
   "mimetype": "text/x-python",
   "name": "python",
   "nbconvert_exporter": "python",
   "pygments_lexer": "ipython3",
   "version": "3.10.12"
  }
 },
 "nbformat": 4,
 "nbformat_minor": 2
}
