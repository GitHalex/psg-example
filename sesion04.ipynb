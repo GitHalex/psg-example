{
 "cells": [
  {
   "cell_type": "markdown",
   "metadata": {},
   "source": [
    "# sesion 04\n",
    "- Mi primer notebook\n",
    "- Imprimir árbol\n",
    "- Crear Markdown\n",
    "- Subir a mi repositorio\n",
    "  "
   ]
  }
 ],
 "metadata": {
  "language_info": {
   "name": "python"
  }
 },
 "nbformat": 4,
 "nbformat_minor": 2
}
